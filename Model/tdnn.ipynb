{
  "nbformat": 4,
  "nbformat_minor": 0,
  "metadata": {
    "colab": {
      "provenance": []
    },
    "kernelspec": {
      "name": "python3",
      "display_name": "Python 3"
    },
    "language_info": {
      "name": "python"
    }
  },
  "cells": [
    {
      "cell_type": "code",
      "execution_count": null,
      "metadata": {
        "colab": {
          "base_uri": "https://localhost:8080/"
        },
        "id": "ck220-gNIhkF",
        "outputId": "cc1a303b-484f-4851-dd66-ad8a3a0b456c"
      },
      "outputs": [
        {
          "output_type": "stream",
          "name": "stdout",
          "text": [
            "Epoch 1/10\n",
            "2270/2270 [==============================] - 25s 10ms/step - loss: 0.5749 - accuracy: 0.8957 - val_loss: 0.3339 - val_accuracy: 0.8980\n",
            "Epoch 2/10\n",
            "2270/2270 [==============================] - 22s 10ms/step - loss: 0.3395 - accuracy: 0.8984 - val_loss: 0.3311 - val_accuracy: 0.8981\n",
            "Epoch 3/10\n",
            "2270/2270 [==============================] - 25s 11ms/step - loss: 0.3323 - accuracy: 0.8984 - val_loss: 0.3294 - val_accuracy: 0.8981\n",
            "Epoch 4/10\n",
            "2270/2270 [==============================] - 21s 9ms/step - loss: 0.3294 - accuracy: 0.8983 - val_loss: 0.3295 - val_accuracy: 0.8981\n",
            "Epoch 5/10\n",
            "2270/2270 [==============================] - 23s 10ms/step - loss: 0.3294 - accuracy: 0.8984 - val_loss: 0.3293 - val_accuracy: 0.8981\n",
            "Epoch 6/10\n",
            "2270/2270 [==============================] - 22s 9ms/step - loss: 0.3286 - accuracy: 0.8984 - val_loss: 0.3292 - val_accuracy: 0.8981\n",
            "Epoch 7/10\n",
            "2270/2270 [==============================] - 22s 10ms/step - loss: 0.3285 - accuracy: 0.8984 - val_loss: 0.3292 - val_accuracy: 0.8981\n",
            "Epoch 8/10\n",
            "2270/2270 [==============================] - 23s 10ms/step - loss: 0.3290 - accuracy: 0.8984 - val_loss: 0.3292 - val_accuracy: 0.8981\n",
            "Epoch 9/10\n",
            "2270/2270 [==============================] - 22s 10ms/step - loss: 0.3288 - accuracy: 0.8984 - val_loss: 0.3292 - val_accuracy: 0.8981\n",
            "Epoch 10/10\n",
            "2270/2270 [==============================] - 21s 9ms/step - loss: 0.3286 - accuracy: 0.8984 - val_loss: 0.3293 - val_accuracy: 0.8981\n",
            "1135/1135 [==============================] - 3s 2ms/step\n",
            "Accuracy: 0.8981109214077215\n"
          ]
        }
      ],
      "source": [
        "import numpy as np\n",
        "import pandas as pd\n",
        "from sklearn.model_selection import train_test_split\n",
        "from sklearn.preprocessing import LabelEncoder\n",
        "from sklearn.metrics import accuracy_score\n",
        "from tensorflow import keras\n",
        "from tensorflow.keras import layers\n",
        "from tensorflow.keras.models import Sequential\n",
        "\n",
        "# Load the extracted audio features from CSV\n",
        "\n",
        "data = pd.read_csv('DATASET-LA.csv')\n",
        "\n",
        "# Assuming your CSV has columns like 'feature_1', 'feature_2', ..., 'label'\n",
        "X = data.iloc[:, :-1].values\n",
        "y = data.iloc[:, -1].values\n",
        "\n",
        "# Encode the labels\n",
        "label_encoder = LabelEncoder()\n",
        "y = label_encoder.fit_transform(y)\n",
        "\n",
        "# Split the data into training and testing sets\n",
        "X_train, X_test, y_train, y_test = train_test_split(X, y, test_size=0.2, random_state=42)\n",
        "\n",
        "# Reshape the input data for TDNN (assuming time dimension is the second axis)\n",
        "X_train = X_train.reshape((X_train.shape[0], X_train.shape[1], 1))\n",
        "X_test = X_test.reshape((X_test.shape[0], X_test.shape[1], 1))\n",
        "\n",
        "# Define the TDNN model\n",
        "model = Sequential([\n",
        "    layers.Conv1D(64, kernel_size=3, activation='relu', input_shape=(X_train.shape[1], 1)),\n",
        "    layers.MaxPooling1D(pool_size=2),\n",
        "    layers.Conv1D(128, kernel_size=3, activation='relu'),\n",
        "    layers.MaxPooling1D(pool_size=2),\n",
        "    layers.Flatten(),\n",
        "    layers.Dense(256, activation='relu'),\n",
        "    layers.Dropout(0.5),\n",
        "    layers.Dense(1, activation='sigmoid')\n",
        "])\n",
        "\n",
        "# Compile the model\n",
        "model.compile(loss='binary_crossentropy', optimizer='adam', metrics=['accuracy'])\n",
        "\n",
        "# Train the model\n",
        "model.fit(X_train, y_train, epochs=10, batch_size=64, validation_data=(X_test, y_test))\n",
        "\n",
        "# Evaluate the model on the test set\n",
        "y_pred = model.predict(X_test)\n",
        "y_pred = (y_pred > 0.5).astype(int)\n",
        "\n",
        "# Convert back to original labels\n",
        "y_pred = label_encoder.inverse_transform(y_pred.flatten())\n",
        "y_test = label_encoder.inverse_transform(y_test)\n",
        "\n",
        "# Calculate accuracy\n",
        "accuracy = accuracy_score(y_test, y_pred)\n",
        "print(f'Accuracy: {accuracy}')"
      ]
    },
    {
      "cell_type": "code",
      "source": [
        "from sklearn.metrics import confusion_matrix\n",
        "\n",
        "# Assuming y_test and y_pred are your true labels and predicted labels\n",
        "conf_matrix = confusion_matrix(y_test, y_pred)\n",
        "\n",
        "print(\"Confusion Matrix:\")\n",
        "print(conf_matrix)\n"
      ],
      "metadata": {
        "colab": {
          "base_uri": "https://localhost:8080/"
        },
        "id": "Yd7KYmulM7P9",
        "outputId": "325f8b49-948f-429f-8978-d5da0c9097ec"
      },
      "execution_count": null,
      "outputs": [
        {
          "output_type": "stream",
          "name": "stdout",
          "text": [
            "Confusion Matrix:\n",
            "[[    0  3700]\n",
            " [    0 32614]]\n"
          ]
        }
      ]
    },
    {
      "cell_type": "code",
      "source": [
        "from sklearn.metrics import precision_score,recall_score,f1_score\n",
        "\n",
        "precision = precision_score(y_test, y_pred, average='binary', pos_label='spoof')\n",
        "recall = recall_score(y_test, y_pred, average='binary', pos_label='spoof')\n",
        "f1 = f1_score(y_test, y_pred, average='binary', pos_label='spoof')\n",
        "\n",
        "print(f'Precision: {precision}')\n",
        "print(f'Recall: {recall}')\n",
        "print(f'F1 Score: {f1}')"
      ],
      "metadata": {
        "colab": {
          "base_uri": "https://localhost:8080/"
        },
        "id": "5rOS6zyfOguH",
        "outputId": "2a2fb27e-727a-4dcf-e952-a9e99b5c6afc"
      },
      "execution_count": null,
      "outputs": [
        {
          "output_type": "stream",
          "name": "stdout",
          "text": [
            "Precision: 0.8981109214077215\n",
            "Recall: 1.0\n",
            "F1 Score: 0.9463207985143918\n"
          ]
        }
      ]
    }
  ]
}