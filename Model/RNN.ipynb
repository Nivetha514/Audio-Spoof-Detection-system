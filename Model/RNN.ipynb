{
  "nbformat": 4,
  "nbformat_minor": 0,
  "metadata": {
    "colab": {
      "provenance": []
    },
    "kernelspec": {
      "name": "python3",
      "display_name": "Python 3"
    },
    "language_info": {
      "name": "python"
    }
  },
  "cells": [
    {
      "cell_type": "code",
      "execution_count": null,
      "metadata": {
        "colab": {
          "base_uri": "https://localhost:8080/"
        },
        "id": "DWZejDzuLbIO",
        "outputId": "fcde952f-28e6-4aef-e287-e45fcc16ae68"
      },
      "outputs": [
        {
          "output_type": "stream",
          "name": "stdout",
          "text": [
            "Epoch 1/10\n",
            "2270/2270 [==============================] - 33s 14ms/step - loss: 0.3425 - accuracy: 0.8975 - val_loss: 0.3306 - val_accuracy: 0.8981\n",
            "Epoch 2/10\n",
            "2270/2270 [==============================] - 30s 13ms/step - loss: 0.3338 - accuracy: 0.8984 - val_loss: 0.3293 - val_accuracy: 0.8981\n",
            "Epoch 3/10\n",
            "2270/2270 [==============================] - 30s 13ms/step - loss: 0.3317 - accuracy: 0.8984 - val_loss: 0.3297 - val_accuracy: 0.8981\n",
            "Epoch 4/10\n",
            "2270/2270 [==============================] - 30s 13ms/step - loss: 0.3307 - accuracy: 0.8984 - val_loss: 0.3292 - val_accuracy: 0.8981\n",
            "Epoch 5/10\n",
            "2270/2270 [==============================] - 34s 15ms/step - loss: 0.3302 - accuracy: 0.8984 - val_loss: 0.3292 - val_accuracy: 0.8981\n",
            "Epoch 6/10\n",
            "2270/2270 [==============================] - 32s 14ms/step - loss: 0.3296 - accuracy: 0.8984 - val_loss: 0.3293 - val_accuracy: 0.8981\n",
            "Epoch 7/10\n",
            "2270/2270 [==============================] - 34s 15ms/step - loss: 0.3295 - accuracy: 0.8984 - val_loss: 0.3293 - val_accuracy: 0.8981\n",
            "Epoch 8/10\n",
            "2270/2270 [==============================] - 30s 13ms/step - loss: 0.3291 - accuracy: 0.8984 - val_loss: 0.3293 - val_accuracy: 0.8981\n",
            "Epoch 9/10\n",
            "2270/2270 [==============================] - 32s 14ms/step - loss: 0.3289 - accuracy: 0.8984 - val_loss: 0.3294 - val_accuracy: 0.8981\n",
            "Epoch 10/10\n",
            "2270/2270 [==============================] - 32s 14ms/step - loss: 0.3288 - accuracy: 0.8984 - val_loss: 0.3293 - val_accuracy: 0.8981\n",
            "1135/1135 [==============================] - 5s 5ms/step\n",
            "Accuracy: 0.8981109214077215\n"
          ]
        }
      ],
      "source": [
        "import pandas as pd\n",
        "from sklearn.model_selection import train_test_split\n",
        "from sklearn.preprocessing import LabelEncoder\n",
        "from sklearn.metrics import accuracy_score\n",
        "from sklearn.preprocessing import StandardScaler\n",
        "from tensorflow import keras\n",
        "from tensorflow.keras import layers\n",
        "\n",
        "# Load the extracted audio features from CSV\n",
        "data = pd.read_csv('DATASET-LA.csv')\n",
        "\n",
        "# Assuming your CSV has columns like 'feature_1', 'feature_2', ..., 'label'\n",
        "X = data.iloc[:, :-1].values\n",
        "y = data.iloc[:, -1].values\n",
        "\n",
        "# Encode the labels\n",
        "label_encoder = LabelEncoder()\n",
        "y = label_encoder.fit_transform(y)\n",
        "\n",
        "# Split the data into training and testing sets\n",
        "X_train, X_test, y_train, y_test = train_test_split(X, y, test_size=0.2, random_state=42)\n",
        "\n",
        "# Standardize the features (you might need to adjust this based on your feature extraction method)\n",
        "scaler = StandardScaler()\n",
        "X_train = scaler.fit_transform(X_train)\n",
        "X_test = scaler.transform(X_test)\n",
        "\n",
        "# Reshape the features for input to the RNN (assuming a 1D sequence)\n",
        "X_train = X_train.reshape((X_train.shape[0], X_train.shape[1], 1))\n",
        "X_test = X_test.reshape((X_test.shape[0], X_test.shape[1], 1))\n",
        "\n",
        "# Define a simple RNN model for sequence classification\n",
        "model = keras.Sequential([\n",
        "    layers.Input(shape=(X_train.shape[1], X_train.shape[2])),\n",
        "    layers.LSTM(64, activation='relu'),\n",
        "    layers.Dropout(0.5),\n",
        "    layers.Dense(1, activation='sigmoid')  # Assuming binary classification\n",
        "])\n",
        "\n",
        "# Compile the model\n",
        "model.compile(loss='binary_crossentropy', optimizer='adam', metrics=['accuracy'])\n",
        "\n",
        "# Train the model\n",
        "model.fit(X_train, y_train, epochs=10, batch_size=64, validation_data=(X_test, y_test))\n",
        "\n",
        "# Evaluate the model on the test set\n",
        "y_pred = (model.predict(X_test) > 0.5).astype(int)\n",
        "\n",
        "# Convert back to original labels\n",
        "y_pred = label_encoder.inverse_transform(y_pred.flatten())\n",
        "y_test = label_encoder.inverse_transform(y_test)\n",
        "\n",
        "# Calculate accuracy\n",
        "accuracy = accuracy_score(y_test, y_pred)\n",
        "print(f'Accuracy: {accuracy}')\n"
      ]
    },
    {
      "cell_type": "code",
      "source": [
        "from sklearn.metrics import confusion_matrix\n",
        "\n",
        "# Assuming y_test and y_pred are your true labels and predicted labels\n",
        "conf_matrix = confusion_matrix(y_test, y_pred)\n",
        "\n",
        "print(\"Confusion Matrix:\")\n",
        "print(conf_matrix)\n"
      ],
      "metadata": {
        "colab": {
          "base_uri": "https://localhost:8080/"
        },
        "id": "X36pk1AuM_Dp",
        "outputId": "0dfc8896-cfaa-4785-9395-0418149e7db8"
      },
      "execution_count": null,
      "outputs": [
        {
          "output_type": "stream",
          "name": "stdout",
          "text": [
            "Confusion Matrix:\n",
            "[[    0  3700]\n",
            " [    0 32614]]\n"
          ]
        }
      ]
    },
    {
      "cell_type": "code",
      "source": [
        "from sklearn.metrics import precision_score,recall_score,f1_score\n",
        "\n",
        "precision = precision_score(y_test, y_pred, average='binary', pos_label='spoof')\n",
        "recall = recall_score(y_test, y_pred, average='binary', pos_label='spoof')\n",
        "f1 = f1_score(y_test, y_pred, average='binary', pos_label='spoof')\n",
        "\n",
        "print(f'Precision: {precision}')\n",
        "print(f'Recall: {recall}')\n",
        "print(f'F1 Score: {f1}')"
      ],
      "metadata": {
        "colab": {
          "base_uri": "https://localhost:8080/"
        },
        "id": "p5PJa4h1PcTc",
        "outputId": "10c15ce3-41b7-45d9-f4fd-e73060f5c4eb"
      },
      "execution_count": null,
      "outputs": [
        {
          "output_type": "stream",
          "name": "stdout",
          "text": [
            "Precision: 0.8981109214077215\n",
            "Recall: 1.0\n",
            "F1 Score: 0.9463207985143918\n"
          ]
        }
      ]
    }
  ]
}